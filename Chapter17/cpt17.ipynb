{
 "nbformat": 4,
 "nbformat_minor": 2,
 "metadata": {
  "language_info": {
   "name": "python",
   "codemirror_mode": {
    "name": "ipython",
    "version": 3
   },
   "version": "3.7.4"
  },
  "orig_nbformat": 2,
  "file_extension": ".py",
  "mimetype": "text/x-python",
  "name": "python",
  "npconvert_exporter": "python",
  "pygments_lexer": "ipython3",
  "version": 3
 },
 "cells": [
  {
   "cell_type": "markdown",
   "execution_count": null,
   "metadata": {},
   "outputs": [],
   "source": [
    "# 데이터프레임"
   ]
  },
  {
   "cell_type": "code",
   "execution_count": 1,
   "metadata": {},
   "outputs": [],
   "source": [
    "import pandas as pd"
   ]
  },
  {
   "cell_type": "code",
   "execution_count": 2,
   "metadata": {},
   "outputs": [],
   "source": [
    "i = 0\n",
    "def printDataFrame(df, end: str=\"\\n\"):\n",
    "    \"\"\"\n",
    "    데이터프레임을 그냥 출력할경우\n",
    "    첫번째줄 들여쓰기가 안돼서 쓰는 함수\n",
    "    \"\"\"\n",
    "    global i\n",
    "    i += 1\n",
    "    print(\"[표 \" + str(i) + \"]\")\n",
    "    print(df, end=end)"
   ]
  },
  {
   "cell_type": "code",
   "execution_count": 3,
   "metadata": {},
   "outputs": [
    {
     "name": "stdout",
     "output_type": "stream",
     "text": "[표 1]\n   0\n0  0\n1  1\n2  2\n3  3\n4  4\n5  5\n6  6\n7  7\n8  8\n9  9\n"
    }
   ],
   "source": [
    "data = [0, 1, 2, 3, 4, 5, 6, 7, 8, 9]\n",
    "df = pd.DataFrame(data)\n",
    "printDataFrame(df)"
   ]
  },
  {
   "cell_type": "code",
   "execution_count": 4,
   "metadata": {},
   "outputs": [
    {
     "name": "stdout",
     "output_type": "stream",
     "text": "[표 2]\n   rev\n0    0\n1    1\n2    2\n3    3\n4    4\n5    5\n6    6\n7    7\n8    8\n9    9\n"
    }
   ],
   "source": [
    "df.columns = [\"rev\"]\n",
    "printDataFrame(df)"
   ]
  },
  {
   "cell_type": "code",
   "execution_count": 5,
   "metadata": {},
   "outputs": [
    {
     "name": "stdout",
     "output_type": "stream",
     "text": "[표 3]\n   rev  test  col\n0    0     3    0\n1    1     3    1\n2    2     3    2\n3    3     3    3\n4    4     3    4\n5    5     3    5\n6    6     3    6\n7    7     3    7\n8    8     3    8\n9    9     3    9\n"
    }
   ],
   "source": [
    "df[\"test\"] = 3\n",
    "df[\"col\"] = df[\"rev\"]\n",
    "printDataFrame(df)"
   ]
  },
  {
   "cell_type": "code",
   "execution_count": 6,
   "metadata": {},
   "outputs": [
    {
     "name": "stdout",
     "output_type": "stream",
     "text": "[표 4]\n   rev  test  col\na    0     3    0\nb    1     3    1\nc    2     3    2\nd    3     3    3\ne    4     3    4\nf    5     3    5\ng    6     3    6\nh    7     3    7\ni    8     3    8\nj    9     3    9\n"
    }
   ],
   "source": [
    "df.index = [\"a\", \"b\", \"c\", \"d\", \"e\", \"f\", \"g\", \"h\", \"i\", \"j\"]\n",
    "printDataFrame(df)"
   ]
  },
  {
   "cell_type": "code",
   "execution_count": 7,
   "metadata": {},
   "outputs": [
    {
     "name": "stdout",
     "output_type": "stream",
     "text": "[표 5]\n   rev  test  col\na    0     3    0\nb    1     3    1\nc    2     3    2\nd    3     3    3\n\n[표 6]\n   rev  test  col\na    0     3    0\nb    1     3    1\nc    2     3    2\n"
    }
   ],
   "source": [
    "printDataFrame(df.loc[\"a\":\"d\"], end=\"\\n\\n\")\n",
    "#df.loc[포함:포함]\n",
    "\n",
    "printDataFrame(df.iloc[0:3])\n",
    "# df.iloc[포함:미포함]"
   ]
  },
  {
   "cell_type": "code",
   "execution_count": 8,
   "metadata": {},
   "outputs": [
    {
     "name": "stdout",
     "output_type": "stream",
     "text": "[표 7]\na    0\nb    1\nc    2\nd    3\ne    4\nf    5\ng    6\nh    7\ni    8\nj    9\nName: rev, dtype: int64\n\n[표 8]\n   rev  test\na    0     3\nb    1     3\nc    2     3\nd    3     3\ne    4     3\nf    5     3\ng    6     3\nh    7     3\ni    8     3\nj    9     3\n"
    }
   ],
   "source": [
    "printDataFrame(df[\"rev\"], end=\"\\n\\n\")\n",
    "printDataFrame(df[[\"rev\", \"test\"]])"
   ]
  },
  {
   "cell_type": "code",
   "execution_count": 9,
   "metadata": {},
   "outputs": [
    {
     "name": "stdout",
     "output_type": "stream",
     "text": "[표 9]\na    0\nb    1\nc    2\nName: rev, dtype: int64\n\n[표 10]\nf    5\ng    6\nh    7\ni    8\nj    9\nName: col, dtype: int64\n"
    }
   ],
   "source": [
    "printDataFrame(df.loc[df.index[0:3],\"rev\"], end=\"\\n\\n\")\n",
    "printDataFrame(df.loc[df.index[5:], \"col\"])"
   ]
  },
  {
   "cell_type": "code",
   "execution_count": null,
   "metadata": {},
   "outputs": [],
   "source": []
  }
 ]
}