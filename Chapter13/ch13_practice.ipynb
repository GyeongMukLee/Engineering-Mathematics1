{
 "nbformat": 4,
 "nbformat_minor": 2,
 "metadata": {
  "language_info": {
   "name": "python",
   "codemirror_mode": {
    "name": "ipython",
    "version": 3
   }
  },
  "orig_nbformat": 2,
  "file_extension": ".py",
  "mimetype": "text/x-python",
  "name": "python",
  "npconvert_exporter": "python",
  "pygments_lexer": "ipython3",
  "version": 3
 },
 "cells": [
  {
   "cell_type": "markdown",
   "execution_count": null,
   "metadata": {},
   "outputs": [],
   "source": [
    "# 13장 연습문제"
   ]
  },
  {
   "cell_type": "code",
   "execution_count": 1,
   "metadata": {},
   "outputs": [],
   "source": [
    "import numpy as np"
   ]
  },
  {
   "cell_type": "markdown",
   "execution_count": null,
   "metadata": {},
   "outputs": [],
   "source": [
    "## 1. 3줄 이내로 아래 배열을 생성하라"
   ]
  },
  {
   "cell_type": "markdown",
   "execution_count": null,
   "metadata": {},
   "outputs": [],
   "source": [
    "### 1-1번 배열\n",
    "```\n",
    "[[1, 1, 1, 1],\n",
    " [1, 1, 1, 1],\n",
    " [1, 1, 1, 2],\n",
    " [1, 6, 1, 1]]\n",
    "```"
   ]
  },
  {
   "cell_type": "code",
   "execution_count": 2,
   "metadata": {},
   "outputs": [
    {
     "name": "stdout",
     "output_type": "stream",
     "text": "[[1. 1. 1. 1.]\n [1. 1. 1. 1.]\n [1. 1. 1. 2.]\n [1. 6. 1. 1.]]\n"
    }
   ],
   "source": [
    "arr_1_1 = np.ones((4, 4))\n",
    "arr_1_1[3][1] = 6\n",
    "arr_1_1[2][3] = 2\n",
    "\n",
    "print(arr_1_1)"
   ]
  },
  {
   "cell_type": "markdown",
   "execution_count": null,
   "metadata": {},
   "outputs": [],
   "source": [
    "### 1-2번 배열\n",
    "```\n",
    "[[0, 0, 0, 0, 0, 0],\n",
    " [2, 0, 0, 0, 0, 0],\n",
    " [0, 3, 0, 0, 0, 0],\n",
    " [0, 0, 4, 0, 0, 0],\n",
    " [0, 0, 0, 5, 0, 0],\n",
    " [0, 0, 0, 0, 6, 0]]\n",
    "```"
   ]
  },
  {
   "cell_type": "code",
   "execution_count": 3,
   "metadata": {},
   "outputs": [
    {
     "name": "stdout",
     "output_type": "stream",
     "text": "[[0 0 0 0 0 0]\n [2 0 0 0 0 0]\n [0 3 0 0 0 0]\n [0 0 4 0 0 0]\n [0 0 0 5 0 0]\n [0 0 0 0 6 0]]\n"
    }
   ],
   "source": [
    "arr_1_2 = np.diag([2, 3, 4, 5, 6], k = -1)\n",
    "\n",
    "print(arr_1_2)"
   ]
  },
  {
   "cell_type": "markdown",
   "execution_count": null,
   "metadata": {},
   "outputs": [],
   "source": [
    "### 1-3번 배열\n",
    "```\n",
    "[[4, 3, 4, 3, 4, 3],\n",
    " [2, 1, 2, 1, 2, 1],\n",
    " [4, 3, 4, 3, 4, 3],\n",
    " [2, 1, 2, 1, 2, 1]]\n",
    "```"
   ]
  },
  {
   "cell_type": "code",
   "execution_count": 4,
   "metadata": {},
   "outputs": [
    {
     "name": "stdout",
     "output_type": "stream",
     "text": "[[4 3 4 3 4 3]\n [2 1 2 1 2 1]\n [4 3 4 3 4 3]\n [2 1 2 1 2 1]]\n"
    }
   ],
   "source": [
    "arr_1_3 = np.tile(np.arange(4, 0, -1).reshape((2,2)), (2, 3))\n",
    "\n",
    "print(arr_1_3)"
   ]
  },
  {
   "cell_type": "code",
   "execution_count": null,
   "metadata": {},
   "outputs": [],
   "source": []
  }
 ]
}