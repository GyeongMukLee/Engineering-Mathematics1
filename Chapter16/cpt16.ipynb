{
 "nbformat": 4,
 "nbformat_minor": 2,
 "metadata": {
  "language_info": {
   "name": "python",
   "codemirror_mode": {
    "name": "ipython",
    "version": 3
   }
  },
  "orig_nbformat": 2,
  "file_extension": ".py",
  "mimetype": "text/x-python",
  "name": "python",
  "npconvert_exporter": "python",
  "pygments_lexer": "ipython3",
  "version": 3
 },
 "cells": [
  {
   "cell_type": "markdown",
   "execution_count": null,
   "metadata": {},
   "outputs": [],
   "source": [
    "# 데이터 프레임"
   ]
  },
  {
   "cell_type": "code",
   "execution_count": 1,
   "metadata": {},
   "outputs": [],
   "source": [
    "import pandas as pd\n",
    "import matplotlib.pyplot as plt\n",
    "import numpy.random as np"
   ]
  },
  {
   "cell_type": "code",
   "execution_count": 2,
   "metadata": {},
   "outputs": [],
   "source": [
    "np.seed(111)"
   ]
  },
  {
   "cell_type": "code",
   "execution_count": 3,
   "metadata": {},
   "outputs": [],
   "source": [
    "def CreateDataSet(Number):\n",
    "    Output = []\n",
    "\n",
    "    for i in range(Number):\n",
    "        rng = pd.date_range(start='1/1/2009',\n",
    "                            end='12/31/2012',\n",
    "                            freq='W-MON')\n",
    "\n",
    "        data = np.randint(low=25, high=1000,\n",
    "                          size=len(rng))\n",
    "        status = [1, 2, 3]\n",
    "        random_status = [status[\n",
    "                             np.randint(\n",
    "                                 low=0, high=len(status))]\n",
    "                         for i in range(len(rng))]\n",
    "\n",
    "        states = ['GA', 'FL', 'fl', 'NY', 'NJ', 'TX']\n",
    "\n",
    "        random_states = [states[np.randint(\n",
    "            low=0, high=len(states))]\n",
    "                         for i in range(len(rng))]\n",
    "        Output.extend(zip(random_states, random_status,\n",
    "                          data, rng))\n",
    "\n",
    "    return Output"
   ]
  },
  {
   "cell_type": "code",
   "execution_count": 4,
   "metadata": {},
   "outputs": [
    {
     "name": "stdout",
     "output_type": "stream",
     "text": "[('GA', 1, 877, Timestamp('2009-01-05 00:00:00', freq='W-MON')), ('FL', 1, 901, Timestamp('2009-01-12 00:00:00', freq='W-MON')), ('fl', 3, 749, Timestamp('2009-01-19 00:00:00', freq='W-MON')), ('FL', 3, 111, Timestamp('2009-01-26 00:00:00', freq='W-MON')), ('GA', 1, 300, Timestamp('2009-02-02 00:00:00', freq='W-MON')), ('FL', 2, 706, Timestamp('2009-02-09 00:00:00', freq='W-MON')), ('TX', 3, 347, Timestamp('2009-02-16 00:00:00', freq='W-MON')), ('fl', 2, 143, Timestamp('2009-02-23 00:00:00', freq='W-MON')), ('FL', 3, 833, Timestamp('2009-03-02 00:00:00', freq='W-MON')), ('NY', 1, 992, Timestamp('2009-03-09 00:00:00', freq='W-MON'))]\n"
    }
   ],
   "source": [
    "dataset=CreateDataSet(4)\n",
    "print(dataset[:10])"
   ]
  },
  {
   "cell_type": "code",
   "execution_count": 5,
   "metadata": {},
   "outputs": [],
   "source": [
    "df = pd.DataFrame(data=dataset,\n",
    "                  columns=[\"state\", \"status\", \"customer\", \"date\"])"
   ]
  },
  {
   "cell_type": "code",
   "execution_count": 6,
   "metadata": {},
   "outputs": [
    {
     "name": "stdout",
     "output_type": "stream",
     "text": "state  status  customer       date\n0    GA       1       877 2009-01-05\n1    FL       1       901 2009-01-12\n2    fl       3       749 2009-01-19\n3    FL       3       111 2009-01-26\n4    GA       1       300 2009-02-02\n    state  status  customer       date\n831    NY       2       122 2012-12-03\n832    TX       2       887 2012-12-10\n833    TX       2       988 2012-12-17\n834    GA       3       946 2012-12-24\n835    FL       2       970 2012-12-31\n<class 'pandas.core.frame.DataFrame'>\nRangeIndex: 836 entries, 0 to 835\nData columns (total 4 columns):\nstate       836 non-null object\nstatus      836 non-null int64\ncustomer    836 non-null int64\ndate        836 non-null datetime64[ns]\ndtypes: datetime64[ns](1), int64(2), object(1)\nmemory usage: 26.2+ KB\nNone\n"
    }
   ],
   "source": [
    "print(df.head())\n",
    "print(df.tail())\n",
    "print(df.info())"
   ]
  },
  {
   "cell_type": "markdown",
   "execution_count": null,
   "metadata": {},
   "outputs": [],
   "source": [
    "만든 데이터를 엑셀 파일로 보내기"
   ]
  },
  {
   "cell_type": "code",
   "execution_count": 7,
   "metadata": {},
   "outputs": [],
   "source": [
    "df.to_excel(\"./Chapter16/date.xlsx\", index=False)"
   ]
  },
  {
   "cell_type": "markdown",
   "execution_count": null,
   "metadata": {},
   "outputs": [],
   "source": [
    "엑셀 파일 읽어오기"
   ]
  },
  {
   "cell_type": "code",
   "execution_count": 10,
   "metadata": {},
   "outputs": [
    {
     "name": "stdout",
     "output_type": "stream",
     "text": "state  status  customer\ndate                              \n2009-01-05    GA       1       877\n2009-01-12    FL       1       901\n2009-01-19    fl       3       749\n2009-01-26    FL       3       111\n2009-02-02    GA       1       300\n...          ...     ...       ...\n2012-12-03    NY       2       122\n2012-12-10    TX       2       887\n2012-12-17    TX       2       988\n2012-12-24    GA       3       946\n2012-12-31    FL       2       970\n\n[836 rows x 3 columns]\n"
    }
   ],
   "source": [
    "df = pd.read_excel(\"./Chapter16/date.xlsx\", 0, index_col=\"date\")\n",
    "print(df)"
   ]
  },
  {
   "cell_type": "code",
   "execution_count": 9,
   "metadata": {},
   "outputs": [
    {
     "name": "stdout",
     "output_type": "stream",
     "text": "state       object\nstatus       int64\ncustomer     int64\ndtype: object\n"
    }
   ],
   "source": [
    "print(df.dtypes)"
   ]
  },
  {
   "cell_type": "code",
   "execution_count": null,
   "metadata": {},
   "outputs": [],
   "source": []
  }
 ]
}