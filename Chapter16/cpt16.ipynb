{
 "nbformat": 4,
 "nbformat_minor": 2,
 "metadata": {
  "language_info": {
   "name": "python",
   "codemirror_mode": {
    "name": "ipython",
    "version": 3
   },
   "version": "3.7.4"
  },
  "orig_nbformat": 2,
  "file_extension": ".py",
  "mimetype": "text/x-python",
  "name": "python",
  "npconvert_exporter": "python",
  "pygments_lexer": "ipython3",
  "version": 3
 },
 "cells": [
  {
   "cell_type": "markdown",
   "execution_count": null,
   "metadata": {},
   "outputs": [],
   "source": [
    "# 데이터 프레임"
   ]
  },
  {
   "cell_type": "code",
   "execution_count": 1,
   "metadata": {},
   "outputs": [],
   "source": [
    "import pandas as pd\n",
    "import matplotlib.pyplot as plt\n",
    "import numpy.random as np"
   ]
  },
  {
   "cell_type": "code",
   "execution_count": 2,
   "metadata": {},
   "outputs": [],
   "source": [
    "np.seed(111)"
   ]
  },
  {
   "cell_type": "code",
   "execution_count": 3,
   "metadata": {},
   "outputs": [],
   "source": [
    "def CreateDataSet(Number):\n",
    "    Output = []\n",
    "\n",
    "    for i in range(Number):\n",
    "        rng = pd.date_range(start='1/1/2009',\n",
    "                            end='12/31/2012',\n",
    "                            freq='W-MON')\n",
    "\n",
    "        data = np.randint(low=25, high=1000,\n",
    "                          size=len(rng))\n",
    "        status = [1, 2, 3]\n",
    "        random_status = [status[\n",
    "                             np.randint(\n",
    "                                 low=0, high=len(status))]\n",
    "                         for i in range(len(rng))]\n",
    "\n",
    "        states = ['GA', 'FL', 'fl', 'NY', 'NJ', 'TX']\n",
    "\n",
    "        random_states = [states[np.randint(\n",
    "            low=0, high=len(states))]\n",
    "                         for i in range(len(rng))]\n",
    "        Output.extend(zip(random_states, random_status,\n",
    "                          data, rng))\n",
    "\n",
    "    return Output"
   ]
  },
  {
   "cell_type": "code",
   "execution_count": 4,
   "metadata": {},
   "outputs": [
    {
     "name": "stdout",
     "output_type": "stream",
     "text": "[('GA', 1, 877, Timestamp('2009-01-05 00:00:00', freq='W-MON')), ('FL', 1, 901, Timestamp('2009-01-12 00:00:00', freq='W-MON')), ('fl', 3, 749, Timestamp('2009-01-19 00:00:00', freq='W-MON')), ('FL', 3, 111, Timestamp('2009-01-26 00:00:00', freq='W-MON')), ('GA', 1, 300, Timestamp('2009-02-02 00:00:00', freq='W-MON')), ('FL', 2, 706, Timestamp('2009-02-09 00:00:00', freq='W-MON')), ('TX', 3, 347, Timestamp('2009-02-16 00:00:00', freq='W-MON')), ('fl', 2, 143, Timestamp('2009-02-23 00:00:00', freq='W-MON')), ('FL', 3, 833, Timestamp('2009-03-02 00:00:00', freq='W-MON')), ('NY', 1, 992, Timestamp('2009-03-09 00:00:00', freq='W-MON'))]\n"
    }
   ],
   "source": [
    "dataset=CreateDataSet(4)\n",
    "print(dataset[:10])"
   ]
  },
  {
   "cell_type": "code",
   "execution_count": 5,
   "metadata": {},
   "outputs": [],
   "source": [
    "df = pd.DataFrame(data=dataset,\n",
    "                  columns=[\"state\", \"status\", \"customer\", \"date\"])"
   ]
  },
  {
   "cell_type": "code",
   "execution_count": 6,
   "metadata": {},
   "outputs": [
    {
     "name": "stdout",
     "output_type": "stream",
     "text": "state  status  customer       date\n0    GA       1       877 2009-01-05\n1    FL       1       901 2009-01-12\n2    fl       3       749 2009-01-19\n3    FL       3       111 2009-01-26\n4    GA       1       300 2009-02-02\n    state  status  customer       date\n831    NY       2       122 2012-12-03\n832    TX       2       887 2012-12-10\n833    TX       2       988 2012-12-17\n834    GA       3       946 2012-12-24\n835    FL       2       970 2012-12-31\n<class 'pandas.core.frame.DataFrame'>\nRangeIndex: 836 entries, 0 to 835\nData columns (total 4 columns):\nstate       836 non-null object\nstatus      836 non-null int64\ncustomer    836 non-null int64\ndate        836 non-null datetime64[ns]\ndtypes: datetime64[ns](1), int64(2), object(1)\nmemory usage: 26.2+ KB\nNone\n"
    }
   ],
   "source": [
    "print(df.head())\n",
    "print(df.tail())\n",
    "print(df.info())"
   ]
  },
  {
   "cell_type": "markdown",
   "execution_count": null,
   "metadata": {},
   "outputs": [],
   "source": [
    "만든 데이터를 엑셀 파일로 보내기"
   ]
  },
  {
   "cell_type": "code",
   "execution_count": 7,
   "metadata": {},
   "outputs": [],
   "source": [
    "df.to_excel(\"./Chapter16/date.xlsx\", index=False)"
   ]
  },
  {
   "cell_type": "markdown",
   "execution_count": null,
   "metadata": {},
   "outputs": [],
   "source": [
    "엑셀 파일 읽어오기"
   ]
  },
  {
   "cell_type": "code",
   "execution_count": 8,
   "metadata": {},
   "outputs": [
    {
     "name": "stdout",
     "output_type": "stream",
     "text": "state  status  customer\ndate                              \n2009-01-05    GA       1       877\n2009-01-12    FL       1       901\n2009-01-19    fl       3       749\n2009-01-26    FL       3       111\n2009-02-02    GA       1       300\n...          ...     ...       ...\n2012-12-03    NY       2       122\n2012-12-10    TX       2       887\n2012-12-17    TX       2       988\n2012-12-24    GA       3       946\n2012-12-31    FL       2       970\n\n[836 rows x 3 columns]\n"
    }
   ],
   "source": [
    "df = pd.read_excel(\"./Chapter16/date.xlsx\", 0, index_col=\"date\")\n",
    "print(df)"
   ]
  },
  {
   "cell_type": "markdown",
   "execution_count": null,
   "metadata": {},
   "outputs": [],
   "source": [
    "데이터 각각의 타입 확인하기"
   ]
  },
  {
   "cell_type": "code",
   "execution_count": 9,
   "metadata": {},
   "outputs": [
    {
     "name": "stdout",
     "output_type": "stream",
     "text": "state       object\nstatus       int64\ncustomer     int64\ndtype: object\n"
    }
   ],
   "source": [
    "print(df.dtypes)"
   ]
  },
  {
   "cell_type": "markdown",
   "execution_count": null,
   "metadata": {},
   "outputs": [],
   "source": [
    "데이터 정보 확인하기"
   ]
  },
  {
   "cell_type": "code",
   "execution_count": 10,
   "metadata": {},
   "outputs": [
    {
     "name": "stdout",
     "output_type": "stream",
     "text": "DatetimeIndex(['2009-01-05', '2009-01-12', '2009-01-19', '2009-01-26',\n               '2009-02-02', '2009-02-09', '2009-02-16', '2009-02-23',\n               '2009-03-02', '2009-03-09',\n               ...\n               '2012-10-29', '2012-11-05', '2012-11-12', '2012-11-19',\n               '2012-11-26', '2012-12-03', '2012-12-10', '2012-12-17',\n               '2012-12-24', '2012-12-31'],\n              dtype='datetime64[ns]', name='date', length=836, freq=None)\n"
    }
   ],
   "source": [
    "print(df.index)"
   ]
  },
  {
   "cell_type": "markdown",
   "execution_count": null,
   "metadata": {},
   "outputs": [],
   "source": [
    "-----\n",
    "## 할일\n",
    "1. 데이터의 State의 열에 있는 유일한 값들 확인\n",
    "2. status의 값이 1인 자료만 선택해서 데이터프레임 만들기\n",
    "3. \"NJ\"를 \"NY\"로 바꾼 다음 합치기\n",
    "4. 이상치 처리"
   ]
  },
  {
   "cell_type": "markdown",
   "execution_count": null,
   "metadata": {},
   "outputs": [],
   "source": [
    "### 1. 데이터의 유일한 값 확인"
   ]
  },
  {
   "cell_type": "code",
   "execution_count": 11,
   "metadata": {},
   "outputs": [
    {
     "name": "stdout",
     "output_type": "stream",
     "text": "[1 3 2]\n"
    }
   ],
   "source": [
    "print(df.status.unique())"
   ]
  },
  {
   "cell_type": "markdown",
   "execution_count": null,
   "metadata": {},
   "outputs": [],
   "source": [
    "### 2. 데이터 변경"
   ]
  },
  {
   "cell_type": "code",
   "execution_count": 12,
   "metadata": {},
   "outputs": [
    {
     "name": "stdout",
     "output_type": "stream",
     "text": "['GA' 'FL' 'TX' 'NY' 'NJ']\n"
    }
   ],
   "source": [
    "df.state = df.state.apply(lambda x : x.upper())\n",
    "print(df.state.unique())"
   ]
  },
  {
   "cell_type": "code",
   "execution_count": 13,
   "metadata": {},
   "outputs": [
    {
     "name": "stdout",
     "output_type": "stream",
     "text": "['GA' 'FL' 'TX' 'NY']\n/home/kmlee/anaconda3/lib/python3.7/site-packages/ipykernel_launcher.py:2: SettingWithCopyWarning: \nA value is trying to be set on a copy of a slice from a DataFrame\n\nSee the caveats in the documentation: http://pandas.pydata.org/pandas-docs/stable/user_guide/indexing.html#returning-a-view-versus-a-copy\n  \n"
    }
   ],
   "source": [
    "mask = (df.state == \"NJ\")\n",
    "df[\"state\"][mask] = \"NY\"\n",
    "print(df.state.unique())"
   ]
  },
  {
   "cell_type": "markdown",
   "execution_count": null,
   "metadata": {},
   "outputs": [],
   "source": [
    "### 3. 이상치 처리"
   ]
  },
  {
   "cell_type": "code",
   "execution_count": 14,
   "metadata": {},
   "outputs": [
    {
     "name": "stdout",
     "output_type": "stream",
     "text": "key  data  test\n0   A     0     1\n1   B     5     1\n2   C    10     1\n3   A     5     1\n4   B    10     1\n5   C    15     1\n6   A    10     1\n7   B    15     1\n8   C    20     1\n"
    }
   ],
   "source": [
    "dftest = pd.DataFrame({\"key\": [\"A\", \"B\", \"C\", \"A\", \"B\", \"C\", \"A\", \"B\", \"C\"],\n",
    "                       \"data\": [0, 5, 10, 5, 10, 15, 10, 15, 20],\n",
    "                       \"test\": [1, 1, 1, 1, 1, 1, 1, 1, 1]})\n",
    "\n",
    "print(dftest)"
   ]
  },
  {
   "cell_type": "code",
   "execution_count": 15,
   "metadata": {},
   "outputs": [
    {
     "name": "stdout",
     "output_type": "stream",
     "text": "data  test\nkey            \nA      15     3\nB      30     3\nC      45     3\n"
    }
   ],
   "source": [
    "print(dftest.groupby(\"key\").sum())"
   ]
  },
  {
   "cell_type": "code",
   "execution_count": 16,
   "metadata": {},
   "outputs": [
    {
     "name": "stdout",
     "output_type": "stream",
     "text": "key\nA    15\nB    30\nC    45\nName: data, dtype: int64\n"
    }
   ],
   "source": [
    "print(dftest.groupby(\"key\").data.apply(lambda x : x.sum()))"
   ]
  },
  {
   "cell_type": "code",
   "execution_count": 17,
   "metadata": {},
   "outputs": [
    {
     "name": "stdout",
     "output_type": "stream",
     "text": "0    15\n1    30\n2    45\n3    15\n4    30\n5    45\n6    15\n7    30\n8    45\nName: data, dtype: int64\n"
    }
   ],
   "source": [
    "print(dftest.groupby(\"key\").data.transform(lambda x : x.sum()))"
   ]
  },
  {
   "cell_type": "code",
   "execution_count": 18,
   "metadata": {},
   "outputs": [
    {
     "name": "stdout",
     "output_type": "stream",
     "text": "date state  status  customer\n0 2009-01-05    GA       1       877\n1 2009-01-12    FL       1       901\n2 2009-01-19    FL       3       749\n3 2009-01-26    FL       3       111\n4 2009-02-02    GA       1       300\n"
    }
   ],
   "source": [
    "print(df.reset_index().head())"
   ]
  },
  {
   "cell_type": "code",
   "execution_count": 19,
   "metadata": {},
   "outputs": [],
   "source": [
    "daily = df.reset_index().groupby([\"state\", \"date\"]).sum()"
   ]
  },
  {
   "cell_type": "markdown",
   "execution_count": null,
   "metadata": {},
   "outputs": [],
   "source": [
    "요소 삭제"
   ]
  },
  {
   "cell_type": "code",
   "execution_count": 20,
   "metadata": {},
   "outputs": [
    {
     "name": "stdout",
     "output_type": "stream",
     "text": "customer\nstate date                \nFL    2009-01-05       760\n      2009-01-12      2538\n      2009-01-19       895\n      2009-01-26       547\n      2009-02-02      1506\n      2009-02-09       969\n      2009-02-23       577\n      2009-03-02       833\n      2009-03-16      2712\n      2009-03-23       752\n"
    }
   ],
   "source": [
    "del daily[\"status\"]\n",
    "print(daily.head(10))"
   ]
  },
  {
   "cell_type": "code",
   "execution_count": 21,
   "metadata": {},
   "outputs": [
    {
     "name": "stdout",
     "output_type": "stream",
     "text": "Index(['FL', 'GA', 'NY', 'TX'], dtype='object', name='state')\n"
    }
   ],
   "source": [
    "print(daily.index.levels[0])"
   ]
  },
  {
   "cell_type": "code",
   "execution_count": 22,
   "metadata": {},
   "outputs": [
    {
     "name": "stdout",
     "output_type": "stream",
     "text": "<pandas.core.groupby.generic.DataFrameGroupBy object at 0x7f418698c050>\n"
    }
   ],
   "source": [
    "StateYear = daily.groupby([daily.index.get_level_values(0), daily.index.get_level_values(1).year])\n",
    "print(StateYear)"
   ]
  },
  {
   "cell_type": "markdown",
   "execution_count": null,
   "metadata": {},
   "outputs": [],
   "source": [
    "-----\n",
    "사분위수 구하기 예제"
   ]
  },
  {
   "cell_type": "code",
   "execution_count": 23,
   "metadata": {},
   "outputs": [
    {
     "name": "stdout",
     "output_type": "stream",
     "text": "A\n0    1\n1    2\n2    3\n3  400\n4    5\n5    6\n6    7\n7    8\n8    9\n9   10\n3.5 6.5 8.75 5.25\n"
    }
   ],
   "source": [
    "dftest=pd.DataFrame({\"A\": [1, 2, 3, 400, 5, 6, 7, 8, 9, 10]})\n",
    "print(dftest)\n",
    "Q1 = dftest.A.quantile(q=0.25)\n",
    "Q2 = dftest.A.quantile(q=0.5)\n",
    "Q3 = dftest.A.quantile(q=0.75)\n",
    "IQR = Q3 - Q1\n",
    "print(Q1, Q2, Q3, IQR)"
   ]
  },
  {
   "cell_type": "code",
   "execution_count": 24,
   "metadata": {},
   "outputs": [
    {
     "name": "stdout",
     "output_type": "stream",
     "text": "A  Lower   Upper  Outlier\n0    1 -4.375  16.625    False\n1    2 -4.375  16.625    False\n2    3 -4.375  16.625    False\n3  400 -4.375  16.625     True\n4    5 -4.375  16.625    False\n5    6 -4.375  16.625    False\n6    7 -4.375  16.625    False\n7    8 -4.375  16.625    False\n8    9 -4.375  16.625    False\n9   10 -4.375  16.625    False\n"
    }
   ],
   "source": [
    "dftest[\"Lower\"] = Q1 - 1.5 * IQR\n",
    "dftest[\"Upper\"] = Q3 + 1.5 * IQR\n",
    "dftest[\"Outlier\"] = (dftest.A < dftest.Lower) | (dftest.A > dftest.Upper)\n",
    "print(dftest)"
   ]
  },
  {
   "cell_type": "code",
   "execution_count": 25,
   "metadata": {},
   "outputs": [
    {
     "name": "stdout",
     "output_type": "stream",
     "text": "customer  Lower\nstate date                       \nFL    2009-01-05       760 -389.0\n      2009-01-12      2538 -389.0\n      2009-01-19       895 -389.0\n      2009-01-26       547 -389.0\n      2009-02-02      1506 -389.0\n      2009-02-09       969 -389.0\n      2009-02-23       577 -389.0\n      2009-03-02       833 -389.0\n      2009-03-16      2712 -389.0\n      2009-03-23       752 -389.0\n"
    }
   ],
   "source": [
    "daily[\"Lower\"] = StateYear[\"customer\"].transform(lambda x: x.quantile(q=0.25) - 1.5 * (x.quantile(q=0.75) - x.quantile(q=0.25)))\n",
    "\n",
    "print(daily.head(10))"
   ]
  },
  {
   "cell_type": "code",
   "execution_count": 26,
   "metadata": {},
   "outputs": [
    {
     "name": "stdout",
     "output_type": "stream",
     "text": "customer  Lower   Upper\nstate date                               \nFL    2009-01-05       760 -389.0  2169.0\n      2009-01-12      2538 -389.0  2169.0\n      2009-01-19       895 -389.0  2169.0\n      2009-01-26       547 -389.0  2169.0\n      2009-02-02      1506 -389.0  2169.0\n      2009-02-09       969 -389.0  2169.0\n      2009-02-23       577 -389.0  2169.0\n      2009-03-02       833 -389.0  2169.0\n      2009-03-16      2712 -389.0  2169.0\n      2009-03-23       752 -389.0  2169.0\n"
    }
   ],
   "source": [
    "daily[\"Upper\"] = StateYear[\"customer\"].transform(lambda x: x.quantile(q=0.75) + 1.5 * (x.quantile(q=0.75) - x.quantile(q=0.25)))\n",
    "print(daily.head(10))"
   ]
  },
  {
   "cell_type": "code",
   "execution_count": 29,
   "metadata": {},
   "outputs": [
    {
     "name": "stdout",
     "output_type": "stream",
     "text": "customer  Lower   Upper  Outlier\nstate date                                        \nFL    2009-01-05       760 -389.0  2169.0    False\n      2009-01-12      2538 -389.0  2169.0     True\n      2009-01-19       895 -389.0  2169.0    False\n      2009-01-26       547 -389.0  2169.0    False\n      2009-02-02      1506 -389.0  2169.0    False\n"
    }
   ],
   "source": [
    "daily[\"Outlier\"] = (daily[\"customer\"]<daily[\"Lower\"]) | (daily[\"customer\"]>daily[\"Upper\"])\n",
    "print(daily.head())"
   ]
  },
  {
   "cell_type": "code",
   "execution_count": 30,
   "metadata": {},
   "outputs": [
    {
     "name": "stdout",
     "output_type": "stream",
     "text": "customer  Lower   Upper  Outlier\nstate date                                        \nFL    2009-01-05       760 -389.0  2169.0    False\n      2009-01-19       895 -389.0  2169.0    False\n      2009-01-26       547 -389.0  2169.0    False\n      2009-02-02      1506 -389.0  2169.0    False\n      2009-02-09       969 -389.0  2169.0    False\n      2009-02-23       577 -389.0  2169.0    False\n      2009-03-02       833 -389.0  2169.0    False\n      2009-03-23       752 -389.0  2169.0    False\n      2009-03-30       541 -389.0  2169.0    False\n      2009-04-06      1337 -389.0  2169.0    False\n"
    }
   ],
   "source": [
    "daily = daily[daily[\"Outlier\"] == False]\n",
    "print(daily.head(10))"
   ]
  },
  {
   "cell_type": "code",
   "execution_count": null,
   "metadata": {},
   "outputs": [],
   "source": []
  }
 ]
}