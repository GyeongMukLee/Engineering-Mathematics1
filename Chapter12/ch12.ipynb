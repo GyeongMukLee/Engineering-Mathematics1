{
 "nbformat": 4,
 "nbformat_minor": 2,
 "metadata": {
  "language_info": {
   "name": "python",
   "codemirror_mode": {
    "name": "ipython",
    "version": 3
   }
  },
  "orig_nbformat": 2,
  "file_extension": ".py",
  "mimetype": "text/x-python",
  "name": "python",
  "npconvert_exporter": "python",
  "pygments_lexer": "ipython3",
  "version": 3
 },
 "cells": [
  {
   "cell_type": "markdown",
   "execution_count": null,
   "metadata": {},
   "outputs": [],
   "source": [
    "# 자료"
   ]
  },
  {
   "cell_type": "markdown",
   "execution_count": null,
   "metadata": {},
   "outputs": [],
   "source": [
    "## 자료는 수치형 자료와 범주형 자료로 나뉜다.\n",
    "\n",
    "1. 양적자료 또는 수치자료\n",
    "* 연속형 자료 ex) 키, 체중\n",
    "* 이산형 자료 ex) 자동차의 수\n",
    "\n",
    "2. 범주형자료 또는 질적자료\n",
    "* 순위형 자료 ex) 선호도, 평점\n",
    "* 명목형 자료 ex) 성별, 혈액형 등"
   ]
  },
  {
   "cell_type": "markdown",
   "execution_count": null,
   "metadata": {},
   "outputs": [],
   "source": [
    "## 그래프의 종류\n",
    "1. 선그래프\n",
    "2. 막대그래프\n",
    "3. 히스토그램\n",
    "4. 원그래프\n",
    "5. 산점도"
   ]
  },
  {
   "cell_type": "code",
   "execution_count": null,
   "metadata": {},
   "outputs": [],
   "source": [
    "import matplotlib.pyplot as plt\n",
    "\n",
    "data = open(\"Seoul_pop1.csv\")\n",
    "read_data = dict()\n",
    "\n",
    "for line in data:\n",
    "    year, population = line.split()\n",
    "    read_data[int(year)] = int(population)\n",
    "\n",
    "fig1 = plt.figure()\n",
    "ax1=fig1.add_subplot(1,1,1)\n",
    "plt.plot(read_data.keys(),read_data.values())"
   ]
  },
  {
   "cell_type": "code",
   "execution_count": null,
   "metadata": {},
   "outputs": [],
   "source": []
  }
 ]
}